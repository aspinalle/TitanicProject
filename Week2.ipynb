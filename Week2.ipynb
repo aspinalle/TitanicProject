{
 "cells": [
  {
   "cell_type": "markdown",
   "metadata": {},
   "source": [
    "What data have you gathered, and how did you gather it? \n",
    "A: from kaggle, have train and test set, although I only have the survival value from the train data so can only really use that with train:test split. \n",
    "s\n",
    "How have you explored the data and what insights have you gained as a result? \n",
    "A: I did some simple eda in week 1, as well as a heatmap.  The heatmap did not show any particually strong individual correlations. \n",
    "\n",
    "There is some missing information.  For example, Cabin is missing from a large number of records.  Age is also missing from a significant portion of records. \n",
    "\n",
    "Will you be able to answer your question with this data, or do you need to gather more data (or adjust your question)? \n",
    "A: presumably it's answerable with the data included for the kaggle competition since it's already been completed by a number of people and using any extra data is considered cheating. \n",
    "\n",
    "What modeling approach are you using to answer your question? A: I was originally going to do logistic regression, but have gone with random forrest. "
   ]
  }
 ],
 "metadata": {
  "kernelspec": {
   "display_name": "Python 2",
   "language": "python",
   "name": "python2"
  },
  "language_info": {
   "codemirror_mode": {
    "name": "ipython",
    "version": 2
   },
   "file_extension": ".py",
   "mimetype": "text/x-python",
   "name": "python",
   "nbconvert_exporter": "python",
   "pygments_lexer": "ipython2",
   "version": "2.7.14"
  }
 },
 "nbformat": 4,
 "nbformat_minor": 2
}
