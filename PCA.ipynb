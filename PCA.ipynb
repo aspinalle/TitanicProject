{
 "cells": [
  {
   "cell_type": "code",
   "execution_count": 1,
   "metadata": {
    "collapsed": true
   },
   "outputs": [],
   "source": [
    "from __future__ import print_function\n",
    "\n",
    "#data handling/prediction\n",
    "import pandas as pd\n",
    "import numpy as np\n",
    "from sklearn import metrics\n",
    "from sklearn.tree import DecisionTreeRegressor\n",
    "from sklearn.decomposition import PCA\n",
    "from sklearn.ensemble import BaggingRegressor, RandomForestRegressor\n",
    "from sklearn.preprocessing import LabelEncoder, PolynomialFeatures, StandardScaler\n",
    "from sklearn.linear_model import LinearRegression, LogisticRegression, Lasso\n",
    "from sklearn.model_selection import cross_val_score, train_test_split\n",
    "from sklearn.metrics import mean_squared_error, accuracy_score\n",
    "from sklearn.externals.six import StringIO\n",
    "import os\n",
    "\n",
    "#visualization\n",
    "%matplotlib inline\n",
    "import matplotlib.pyplot as plt\n",
    "import seaborn as sns\n",
    "from IPython.display import Image\n",
    "import pydotplus\n",
    "from sklearn.tree import export_graphviz\n",
    "\n",
    "#set variable to actually use graphviz\n",
    "os.environ[\"PATH\"] += os.pathsep + 'C:/Program Files (x86)/Graphviz2.38/bin/'\n"
   ]
  },
  {
   "cell_type": "code",
   "execution_count": 2,
   "metadata": {},
   "outputs": [
    {
     "data": {
      "text/html": [
       "<div>\n",
       "<style>\n",
       "    .dataframe thead tr:only-child th {\n",
       "        text-align: right;\n",
       "    }\n",
       "\n",
       "    .dataframe thead th {\n",
       "        text-align: left;\n",
       "    }\n",
       "\n",
       "    .dataframe tbody tr th {\n",
       "        vertical-align: top;\n",
       "    }\n",
       "</style>\n",
       "<table border=\"1\" class=\"dataframe\">\n",
       "  <thead>\n",
       "    <tr style=\"text-align: right;\">\n",
       "      <th></th>\n",
       "      <th>PassengerId</th>\n",
       "      <th>Survived</th>\n",
       "      <th>Pclass</th>\n",
       "      <th>Name</th>\n",
       "      <th>Sex</th>\n",
       "      <th>Age</th>\n",
       "      <th>SibSp</th>\n",
       "      <th>Parch</th>\n",
       "      <th>Ticket</th>\n",
       "      <th>Fare</th>\n",
       "      <th>Cabin</th>\n",
       "      <th>Embarked</th>\n",
       "    </tr>\n",
       "  </thead>\n",
       "  <tbody>\n",
       "    <tr>\n",
       "      <th>0</th>\n",
       "      <td>1</td>\n",
       "      <td>0</td>\n",
       "      <td>3</td>\n",
       "      <td>Braund, Mr. Owen Harris</td>\n",
       "      <td>male</td>\n",
       "      <td>22.0</td>\n",
       "      <td>1</td>\n",
       "      <td>0</td>\n",
       "      <td>A/5 21171</td>\n",
       "      <td>7.2500</td>\n",
       "      <td>NaN</td>\n",
       "      <td>S</td>\n",
       "    </tr>\n",
       "    <tr>\n",
       "      <th>1</th>\n",
       "      <td>2</td>\n",
       "      <td>1</td>\n",
       "      <td>1</td>\n",
       "      <td>Cumings, Mrs. John Bradley (Florence Briggs Th...</td>\n",
       "      <td>female</td>\n",
       "      <td>38.0</td>\n",
       "      <td>1</td>\n",
       "      <td>0</td>\n",
       "      <td>PC 17599</td>\n",
       "      <td>71.2833</td>\n",
       "      <td>C85</td>\n",
       "      <td>C</td>\n",
       "    </tr>\n",
       "    <tr>\n",
       "      <th>2</th>\n",
       "      <td>3</td>\n",
       "      <td>1</td>\n",
       "      <td>3</td>\n",
       "      <td>Heikkinen, Miss. Laina</td>\n",
       "      <td>female</td>\n",
       "      <td>26.0</td>\n",
       "      <td>0</td>\n",
       "      <td>0</td>\n",
       "      <td>STON/O2. 3101282</td>\n",
       "      <td>7.9250</td>\n",
       "      <td>NaN</td>\n",
       "      <td>S</td>\n",
       "    </tr>\n",
       "    <tr>\n",
       "      <th>3</th>\n",
       "      <td>4</td>\n",
       "      <td>1</td>\n",
       "      <td>1</td>\n",
       "      <td>Futrelle, Mrs. Jacques Heath (Lily May Peel)</td>\n",
       "      <td>female</td>\n",
       "      <td>35.0</td>\n",
       "      <td>1</td>\n",
       "      <td>0</td>\n",
       "      <td>113803</td>\n",
       "      <td>53.1000</td>\n",
       "      <td>C123</td>\n",
       "      <td>S</td>\n",
       "    </tr>\n",
       "    <tr>\n",
       "      <th>4</th>\n",
       "      <td>5</td>\n",
       "      <td>0</td>\n",
       "      <td>3</td>\n",
       "      <td>Allen, Mr. William Henry</td>\n",
       "      <td>male</td>\n",
       "      <td>35.0</td>\n",
       "      <td>0</td>\n",
       "      <td>0</td>\n",
       "      <td>373450</td>\n",
       "      <td>8.0500</td>\n",
       "      <td>NaN</td>\n",
       "      <td>S</td>\n",
       "    </tr>\n",
       "  </tbody>\n",
       "</table>\n",
       "</div>"
      ],
      "text/plain": [
       "   PassengerId  Survived  Pclass  \\\n",
       "0            1         0       3   \n",
       "1            2         1       1   \n",
       "2            3         1       3   \n",
       "3            4         1       1   \n",
       "4            5         0       3   \n",
       "\n",
       "                                                Name     Sex   Age  SibSp  \\\n",
       "0                            Braund, Mr. Owen Harris    male  22.0      1   \n",
       "1  Cumings, Mrs. John Bradley (Florence Briggs Th...  female  38.0      1   \n",
       "2                             Heikkinen, Miss. Laina  female  26.0      0   \n",
       "3       Futrelle, Mrs. Jacques Heath (Lily May Peel)  female  35.0      1   \n",
       "4                           Allen, Mr. William Henry    male  35.0      0   \n",
       "\n",
       "   Parch            Ticket     Fare Cabin Embarked  \n",
       "0      0         A/5 21171   7.2500   NaN        S  \n",
       "1      0          PC 17599  71.2833   C85        C  \n",
       "2      0  STON/O2. 3101282   7.9250   NaN        S  \n",
       "3      0            113803  53.1000  C123        S  \n",
       "4      0            373450   8.0500   NaN        S  "
      ]
     },
     "execution_count": 2,
     "metadata": {},
     "output_type": "execute_result"
    }
   ],
   "source": [
    "#import data\n",
    "trainData  = pd.read_csv(\"../data/train.csv\")\n",
    "#testData = pd.read_csv(\"../data/test.csv\")\n",
    "#can't use the provided test data at this point \n",
    "#because don't have survival values to calculate RMSE\n",
    "trainData.head()"
   ]
  },
  {
   "cell_type": "code",
   "execution_count": 3,
   "metadata": {},
   "outputs": [
    {
     "data": {
      "text/plain": [
       "['PassengerId',\n",
       " 'Survived',\n",
       " 'Pclass',\n",
       " 'Name',\n",
       " 'Sex',\n",
       " 'Age',\n",
       " 'SibSp',\n",
       " 'Parch',\n",
       " 'Ticket',\n",
       " 'Fare',\n",
       " 'Cabin',\n",
       " 'Embarked']"
      ]
     },
     "execution_count": 3,
     "metadata": {},
     "output_type": "execute_result"
    }
   ],
   "source": [
    "colList = trainData.columns.tolist()\n",
    "colList"
   ]
  },
  {
   "cell_type": "code",
   "execution_count": 4,
   "metadata": {
    "collapsed": true
   },
   "outputs": [],
   "source": [
    "colList = ['Name','Ticket','Cabin','PassengerId', 'Survived', 'Age','Sex', 'Embarked', 'Pclass','SibSp','Parch','Fare']"
   ]
  },
  {
   "cell_type": "code",
   "execution_count": 5,
   "metadata": {},
   "outputs": [
    {
     "data": {
      "text/html": [
       "<div>\n",
       "<style>\n",
       "    .dataframe thead tr:only-child th {\n",
       "        text-align: right;\n",
       "    }\n",
       "\n",
       "    .dataframe thead th {\n",
       "        text-align: left;\n",
       "    }\n",
       "\n",
       "    .dataframe tbody tr th {\n",
       "        vertical-align: top;\n",
       "    }\n",
       "</style>\n",
       "<table border=\"1\" class=\"dataframe\">\n",
       "  <thead>\n",
       "    <tr style=\"text-align: right;\">\n",
       "      <th></th>\n",
       "      <th>Name</th>\n",
       "      <th>Ticket</th>\n",
       "      <th>Cabin</th>\n",
       "      <th>PassengerId</th>\n",
       "      <th>Survived</th>\n",
       "      <th>Age</th>\n",
       "      <th>Sex</th>\n",
       "      <th>Embarked</th>\n",
       "      <th>Pclass</th>\n",
       "      <th>SibSp</th>\n",
       "      <th>Parch</th>\n",
       "      <th>Fare</th>\n",
       "    </tr>\n",
       "  </thead>\n",
       "  <tbody>\n",
       "    <tr>\n",
       "      <th>0</th>\n",
       "      <td>Braund, Mr. Owen Harris</td>\n",
       "      <td>A/5 21171</td>\n",
       "      <td>NaN</td>\n",
       "      <td>1</td>\n",
       "      <td>0</td>\n",
       "      <td>22.0</td>\n",
       "      <td>male</td>\n",
       "      <td>S</td>\n",
       "      <td>3</td>\n",
       "      <td>1</td>\n",
       "      <td>0</td>\n",
       "      <td>7.2500</td>\n",
       "    </tr>\n",
       "    <tr>\n",
       "      <th>1</th>\n",
       "      <td>Cumings, Mrs. John Bradley (Florence Briggs Th...</td>\n",
       "      <td>PC 17599</td>\n",
       "      <td>C85</td>\n",
       "      <td>2</td>\n",
       "      <td>1</td>\n",
       "      <td>38.0</td>\n",
       "      <td>female</td>\n",
       "      <td>C</td>\n",
       "      <td>1</td>\n",
       "      <td>1</td>\n",
       "      <td>0</td>\n",
       "      <td>71.2833</td>\n",
       "    </tr>\n",
       "    <tr>\n",
       "      <th>2</th>\n",
       "      <td>Heikkinen, Miss. Laina</td>\n",
       "      <td>STON/O2. 3101282</td>\n",
       "      <td>NaN</td>\n",
       "      <td>3</td>\n",
       "      <td>1</td>\n",
       "      <td>26.0</td>\n",
       "      <td>female</td>\n",
       "      <td>S</td>\n",
       "      <td>3</td>\n",
       "      <td>0</td>\n",
       "      <td>0</td>\n",
       "      <td>7.9250</td>\n",
       "    </tr>\n",
       "    <tr>\n",
       "      <th>3</th>\n",
       "      <td>Futrelle, Mrs. Jacques Heath (Lily May Peel)</td>\n",
       "      <td>113803</td>\n",
       "      <td>C123</td>\n",
       "      <td>4</td>\n",
       "      <td>1</td>\n",
       "      <td>35.0</td>\n",
       "      <td>female</td>\n",
       "      <td>S</td>\n",
       "      <td>1</td>\n",
       "      <td>1</td>\n",
       "      <td>0</td>\n",
       "      <td>53.1000</td>\n",
       "    </tr>\n",
       "    <tr>\n",
       "      <th>4</th>\n",
       "      <td>Allen, Mr. William Henry</td>\n",
       "      <td>373450</td>\n",
       "      <td>NaN</td>\n",
       "      <td>5</td>\n",
       "      <td>0</td>\n",
       "      <td>35.0</td>\n",
       "      <td>male</td>\n",
       "      <td>S</td>\n",
       "      <td>3</td>\n",
       "      <td>0</td>\n",
       "      <td>0</td>\n",
       "      <td>8.0500</td>\n",
       "    </tr>\n",
       "  </tbody>\n",
       "</table>\n",
       "</div>"
      ],
      "text/plain": [
       "                                                Name            Ticket Cabin  \\\n",
       "0                            Braund, Mr. Owen Harris         A/5 21171   NaN   \n",
       "1  Cumings, Mrs. John Bradley (Florence Briggs Th...          PC 17599   C85   \n",
       "2                             Heikkinen, Miss. Laina  STON/O2. 3101282   NaN   \n",
       "3       Futrelle, Mrs. Jacques Heath (Lily May Peel)            113803  C123   \n",
       "4                           Allen, Mr. William Henry            373450   NaN   \n",
       "\n",
       "   PassengerId  Survived   Age     Sex Embarked  Pclass  SibSp  Parch     Fare  \n",
       "0            1         0  22.0    male        S       3      1      0   7.2500  \n",
       "1            2         1  38.0  female        C       1      1      0  71.2833  \n",
       "2            3         1  26.0  female        S       3      0      0   7.9250  \n",
       "3            4         1  35.0  female        S       1      1      0  53.1000  \n",
       "4            5         0  35.0    male        S       3      0      0   8.0500  "
      ]
     },
     "execution_count": 5,
     "metadata": {},
     "output_type": "execute_result"
    }
   ],
   "source": [
    "working = trainData[colList]\n",
    "working.head()"
   ]
  },
  {
   "cell_type": "code",
   "execution_count": 6,
   "metadata": {},
   "outputs": [
    {
     "data": {
      "text/plain": [
       "(891, 12)"
      ]
     },
     "execution_count": 6,
     "metadata": {},
     "output_type": "execute_result"
    }
   ],
   "source": [
    "working.shape"
   ]
  },
  {
   "cell_type": "code",
   "execution_count": 7,
   "metadata": {},
   "outputs": [
    {
     "data": {
      "text/plain": [
       "(891, 12)"
      ]
     },
     "execution_count": 7,
     "metadata": {},
     "output_type": "execute_result"
    }
   ],
   "source": [
    "trainData.shape"
   ]
  },
  {
   "cell_type": "code",
   "execution_count": 8,
   "metadata": {},
   "outputs": [
    {
     "data": {
      "text/plain": [
       "{'Sex': {'female': 0, 'male': 1}}"
      ]
     },
     "execution_count": 8,
     "metadata": {},
     "output_type": "execute_result"
    }
   ],
   "source": [
    "#change gender to number\n",
    "clean_sex = {\"Sex\": {\"male\": 1, \"female\": 0}}\n",
    "clean_sex\n"
   ]
  },
  {
   "cell_type": "code",
   "execution_count": 9,
   "metadata": {
    "collapsed": true
   },
   "outputs": [],
   "source": [
    "working.replace(clean_sex, inplace=True)"
   ]
  },
  {
   "cell_type": "code",
   "execution_count": 10,
   "metadata": {},
   "outputs": [
    {
     "data": {
      "text/plain": [
       "1    577\n",
       "0    314\n",
       "Name: Sex, dtype: int64"
      ]
     },
     "execution_count": 10,
     "metadata": {},
     "output_type": "execute_result"
    }
   ],
   "source": [
    "#confirm casting was done right\n",
    "working.Sex.value_counts()"
   ]
  },
  {
   "cell_type": "code",
   "execution_count": 11,
   "metadata": {},
   "outputs": [
    {
     "data": {
      "text/plain": [
       "S    644\n",
       "C    168\n",
       "Q     77\n",
       "Name: Embarked, dtype: int64"
      ]
     },
     "execution_count": 11,
     "metadata": {},
     "output_type": "execute_result"
    }
   ],
   "source": [
    "working.Embarked.value_counts()"
   ]
  },
  {
   "cell_type": "code",
   "execution_count": 12,
   "metadata": {},
   "outputs": [
    {
     "data": {
      "text/plain": [
       "1.0    644\n",
       "2.0    168\n",
       "3.0     77\n",
       "Name: Embarked, dtype: int64"
      ]
     },
     "execution_count": 12,
     "metadata": {},
     "output_type": "execute_result"
    }
   ],
   "source": [
    "cleaned = {\"Embarked\": {\"S\": 1, \"C\": 2, \"Q\": 3}}\n",
    "working.replace(cleaned, inplace=True)\n",
    "working.Embarked.value_counts()"
   ]
  },
  {
   "cell_type": "code",
   "execution_count": 13,
   "metadata": {},
   "outputs": [
    {
     "data": {
      "text/plain": [
       "1.0    646\n",
       "2.0    168\n",
       "3.0     77\n",
       "Name: Embarked, dtype: int64"
      ]
     },
     "execution_count": 13,
     "metadata": {},
     "output_type": "execute_result"
    }
   ],
   "source": [
    "#fill in blank Embarked values with 1.0 as vast majority of passengers boarded at Southampton.\n",
    "working = working.fillna({\"Embarked\": 1})\n",
    "working.Embarked.value_counts()"
   ]
  },
  {
   "cell_type": "code",
   "execution_count": 14,
   "metadata": {},
   "outputs": [
    {
     "data": {
      "text/plain": [
       "['Name',\n",
       " 'Ticket',\n",
       " 'Cabin',\n",
       " 'PassengerId',\n",
       " 'Survived',\n",
       " 'Age',\n",
       " 'Sex',\n",
       " 'Embarked',\n",
       " 'Pclass',\n",
       " 'SibSp',\n",
       " 'Parch',\n",
       " 'Fare']"
      ]
     },
     "execution_count": 14,
     "metadata": {},
     "output_type": "execute_result"
    }
   ],
   "source": [
    "working.columns.tolist()"
   ]
  },
  {
   "cell_type": "code",
   "execution_count": 15,
   "metadata": {
    "collapsed": true
   },
   "outputs": [],
   "source": [
    "#exclude Age in col 5 for now - the nulls are throwing error when try to calculate RMSE\n",
    "X, y = working.iloc[:, 6:], working.iloc[:, 4]"
   ]
  },
  {
   "cell_type": "code",
   "execution_count": 17,
   "metadata": {
    "collapsed": true
   },
   "outputs": [],
   "source": [
    "#for development purposes, use test_train_split on the cleaned train data so I have the survival value....\n",
    "X_train, X_test, y_train, y_test = train_test_split(\n",
    "    X, y, test_size=.4, random_state=1234)"
   ]
  },
  {
   "cell_type": "code",
   "execution_count": 18,
   "metadata": {},
   "outputs": [
    {
     "name": "stdout",
     "output_type": "stream",
     "text": [
      "X_train shape: (534, 6)\n",
      "feature_names_tr: ['Sex', 'Embarked', 'Pclass', 'SibSp', 'Parch', 'Fare']\n",
      "X_test shape: (357, 6)\n",
      "feature_names_te: ['Sex', 'Embarked', 'Pclass', 'SibSp', 'Parch', 'Fare']\n"
     ]
    }
   ],
   "source": [
    "#define features\n",
    "feature_names_tr = X_train.columns.tolist()\n",
    "feature_names_te = X_test.columns.tolist()\n",
    "print(\"X_train shape:\", X_train.shape)\n",
    "print(\"feature_names_tr:\", feature_names_tr)\n",
    "print(\"X_test shape:\", X_test.shape)\n",
    "print(\"feature_names_te:\", feature_names_te)"
   ]
  },
  {
   "cell_type": "code",
   "execution_count": 18,
   "metadata": {},
   "outputs": [
    {
     "name": "stdout",
     "output_type": "stream",
     "text": [
      "Random Forest RMSE, unscaled & ignoring Age: 0.405318299836\n"
     ]
    }
   ],
   "source": [
    "#Random forest of 500 trees\n",
    "rf = RandomForestRegressor(n_estimators=500, bootstrap=True, oob_score=True, random_state=123)\n",
    "rf.fit(X_train, y_train)\n",
    "y_pred_rf = rf.predict(X_test)\n",
    "\n",
    "print(\"Random Forest RMSE, unscaled & ignoring Age:\", np.sqrt(mean_squared_error(y_test, y_pred_rf)))\n"
   ]
  },
  {
   "cell_type": "markdown",
   "metadata": {},
   "source": [
    "# Now with scaling...."
   ]
  },
  {
   "cell_type": "code",
   "execution_count": 19,
   "metadata": {
    "collapsed": true
   },
   "outputs": [],
   "source": [
    "#let's try that with scaling, since Fare can be much larger than 1. \n",
    "sc = StandardScaler()\n",
    "X_scaled = X.copy()\n",
    "X_scaled[feature_names_tr] = sc.fit_transform(X[feature_names_tr])"
   ]
  },
  {
   "cell_type": "code",
   "execution_count": 20,
   "metadata": {},
   "outputs": [
    {
     "data": {
      "text/html": [
       "<div>\n",
       "<style>\n",
       "    .dataframe thead tr:only-child th {\n",
       "        text-align: right;\n",
       "    }\n",
       "\n",
       "    .dataframe thead th {\n",
       "        text-align: left;\n",
       "    }\n",
       "\n",
       "    .dataframe tbody tr th {\n",
       "        vertical-align: top;\n",
       "    }\n",
       "</style>\n",
       "<table border=\"1\" class=\"dataframe\">\n",
       "  <thead>\n",
       "    <tr style=\"text-align: right;\">\n",
       "      <th></th>\n",
       "      <th>Sex</th>\n",
       "      <th>Embarked</th>\n",
       "      <th>Pclass</th>\n",
       "      <th>SibSp</th>\n",
       "      <th>Parch</th>\n",
       "      <th>Fare</th>\n",
       "    </tr>\n",
       "  </thead>\n",
       "  <tbody>\n",
       "    <tr>\n",
       "      <th>0</th>\n",
       "      <td>0.737695</td>\n",
       "      <td>-0.568837</td>\n",
       "      <td>0.827377</td>\n",
       "      <td>0.432793</td>\n",
       "      <td>-0.473674</td>\n",
       "      <td>-0.502445</td>\n",
       "    </tr>\n",
       "    <tr>\n",
       "      <th>1</th>\n",
       "      <td>-1.355574</td>\n",
       "      <td>1.005181</td>\n",
       "      <td>-1.566107</td>\n",
       "      <td>0.432793</td>\n",
       "      <td>-0.473674</td>\n",
       "      <td>0.786845</td>\n",
       "    </tr>\n",
       "    <tr>\n",
       "      <th>2</th>\n",
       "      <td>-1.355574</td>\n",
       "      <td>-0.568837</td>\n",
       "      <td>0.827377</td>\n",
       "      <td>-0.474545</td>\n",
       "      <td>-0.473674</td>\n",
       "      <td>-0.488854</td>\n",
       "    </tr>\n",
       "    <tr>\n",
       "      <th>3</th>\n",
       "      <td>-1.355574</td>\n",
       "      <td>-0.568837</td>\n",
       "      <td>-1.566107</td>\n",
       "      <td>0.432793</td>\n",
       "      <td>-0.473674</td>\n",
       "      <td>0.420730</td>\n",
       "    </tr>\n",
       "    <tr>\n",
       "      <th>4</th>\n",
       "      <td>0.737695</td>\n",
       "      <td>-0.568837</td>\n",
       "      <td>0.827377</td>\n",
       "      <td>-0.474545</td>\n",
       "      <td>-0.473674</td>\n",
       "      <td>-0.486337</td>\n",
       "    </tr>\n",
       "  </tbody>\n",
       "</table>\n",
       "</div>"
      ],
      "text/plain": [
       "        Sex  Embarked    Pclass     SibSp     Parch      Fare\n",
       "0  0.737695 -0.568837  0.827377  0.432793 -0.473674 -0.502445\n",
       "1 -1.355574  1.005181 -1.566107  0.432793 -0.473674  0.786845\n",
       "2 -1.355574 -0.568837  0.827377 -0.474545 -0.473674 -0.488854\n",
       "3 -1.355574 -0.568837 -1.566107  0.432793 -0.473674  0.420730\n",
       "4  0.737695 -0.568837  0.827377 -0.474545 -0.473674 -0.486337"
      ]
     },
     "execution_count": 20,
     "metadata": {},
     "output_type": "execute_result"
    }
   ],
   "source": [
    "X_scaled.head()"
   ]
  },
  {
   "cell_type": "code",
   "execution_count": 21,
   "metadata": {},
   "outputs": [
    {
     "name": "stdout",
     "output_type": "stream",
     "text": [
      "Random Forest RMSE, scaled, ignoring Age: 0.405055372369\n"
     ]
    }
   ],
   "source": [
    "X_sc_train, X_sc_test, y_train, y_test = train_test_split(\n",
    "    X_scaled, y, test_size=.4, random_state=1234)\n",
    "rf = RandomForestRegressor(n_estimators=500, bootstrap=True, oob_score=True, random_state=123)\n",
    "rf.fit(X_sc_train, y_train)\n",
    "y_pred_rf = rf.predict(X_sc_test)\n",
    "\n",
    "print(\"Random Forest RMSE, scaled, ignoring Age:\", np.sqrt(mean_squared_error(y_test, y_pred_rf)))\n"
   ]
  },
  {
   "cell_type": "markdown",
   "metadata": {
    "collapsed": true
   },
   "source": [
    "so scaling didn't make much difference. However, RMSE significantly worse (0.48 vs 0.40) when maintain single column for embarked vs. splitting into single column for each port as in previous attempt. \n",
    "\n",
    "# dealing with missing ages"
   ]
  },
  {
   "cell_type": "code",
   "execution_count": 19,
   "metadata": {},
   "outputs": [
    {
     "data": {
      "text/plain": [
       "(177, 12)"
      ]
     },
     "execution_count": 19,
     "metadata": {},
     "output_type": "execute_result"
    }
   ],
   "source": [
    "#how often is Age 'NaN'?\n",
    "working_noAge = working[working.Age.isnull()]\n",
    "working_noAge.shape"
   ]
  },
  {
   "cell_type": "code",
   "execution_count": 20,
   "metadata": {},
   "outputs": [
    {
     "data": {
      "text/html": [
       "<div>\n",
       "<style>\n",
       "    .dataframe thead tr:only-child th {\n",
       "        text-align: right;\n",
       "    }\n",
       "\n",
       "    .dataframe thead th {\n",
       "        text-align: left;\n",
       "    }\n",
       "\n",
       "    .dataframe tbody tr th {\n",
       "        vertical-align: top;\n",
       "    }\n",
       "</style>\n",
       "<table border=\"1\" class=\"dataframe\">\n",
       "  <thead>\n",
       "    <tr style=\"text-align: right;\">\n",
       "      <th></th>\n",
       "      <th>PassengerId</th>\n",
       "      <th>Survived</th>\n",
       "      <th>Age</th>\n",
       "      <th>Sex</th>\n",
       "      <th>Embarked</th>\n",
       "      <th>Pclass</th>\n",
       "      <th>SibSp</th>\n",
       "      <th>Parch</th>\n",
       "      <th>Fare</th>\n",
       "    </tr>\n",
       "  </thead>\n",
       "  <tbody>\n",
       "    <tr>\n",
       "      <th>count</th>\n",
       "      <td>714.000000</td>\n",
       "      <td>714.000000</td>\n",
       "      <td>714.000000</td>\n",
       "      <td>714.000000</td>\n",
       "      <td>714.000000</td>\n",
       "      <td>714.000000</td>\n",
       "      <td>714.000000</td>\n",
       "      <td>714.000000</td>\n",
       "      <td>714.000000</td>\n",
       "    </tr>\n",
       "    <tr>\n",
       "      <th>mean</th>\n",
       "      <td>448.582633</td>\n",
       "      <td>0.406162</td>\n",
       "      <td>29.699118</td>\n",
       "      <td>0.634454</td>\n",
       "      <td>1.260504</td>\n",
       "      <td>2.236695</td>\n",
       "      <td>0.512605</td>\n",
       "      <td>0.431373</td>\n",
       "      <td>34.694514</td>\n",
       "    </tr>\n",
       "    <tr>\n",
       "      <th>std</th>\n",
       "      <td>259.119524</td>\n",
       "      <td>0.491460</td>\n",
       "      <td>14.526497</td>\n",
       "      <td>0.481921</td>\n",
       "      <td>0.521012</td>\n",
       "      <td>0.838250</td>\n",
       "      <td>0.929783</td>\n",
       "      <td>0.853289</td>\n",
       "      <td>52.918930</td>\n",
       "    </tr>\n",
       "    <tr>\n",
       "      <th>min</th>\n",
       "      <td>1.000000</td>\n",
       "      <td>0.000000</td>\n",
       "      <td>0.420000</td>\n",
       "      <td>0.000000</td>\n",
       "      <td>1.000000</td>\n",
       "      <td>1.000000</td>\n",
       "      <td>0.000000</td>\n",
       "      <td>0.000000</td>\n",
       "      <td>0.000000</td>\n",
       "    </tr>\n",
       "    <tr>\n",
       "      <th>25%</th>\n",
       "      <td>222.250000</td>\n",
       "      <td>0.000000</td>\n",
       "      <td>20.125000</td>\n",
       "      <td>0.000000</td>\n",
       "      <td>1.000000</td>\n",
       "      <td>1.000000</td>\n",
       "      <td>0.000000</td>\n",
       "      <td>0.000000</td>\n",
       "      <td>8.050000</td>\n",
       "    </tr>\n",
       "    <tr>\n",
       "      <th>50%</th>\n",
       "      <td>445.000000</td>\n",
       "      <td>0.000000</td>\n",
       "      <td>28.000000</td>\n",
       "      <td>1.000000</td>\n",
       "      <td>1.000000</td>\n",
       "      <td>2.000000</td>\n",
       "      <td>0.000000</td>\n",
       "      <td>0.000000</td>\n",
       "      <td>15.741700</td>\n",
       "    </tr>\n",
       "    <tr>\n",
       "      <th>75%</th>\n",
       "      <td>677.750000</td>\n",
       "      <td>1.000000</td>\n",
       "      <td>38.000000</td>\n",
       "      <td>1.000000</td>\n",
       "      <td>1.000000</td>\n",
       "      <td>3.000000</td>\n",
       "      <td>1.000000</td>\n",
       "      <td>1.000000</td>\n",
       "      <td>33.375000</td>\n",
       "    </tr>\n",
       "    <tr>\n",
       "      <th>max</th>\n",
       "      <td>891.000000</td>\n",
       "      <td>1.000000</td>\n",
       "      <td>80.000000</td>\n",
       "      <td>1.000000</td>\n",
       "      <td>3.000000</td>\n",
       "      <td>3.000000</td>\n",
       "      <td>5.000000</td>\n",
       "      <td>6.000000</td>\n",
       "      <td>512.329200</td>\n",
       "    </tr>\n",
       "  </tbody>\n",
       "</table>\n",
       "</div>"
      ],
      "text/plain": [
       "       PassengerId    Survived         Age         Sex    Embarked  \\\n",
       "count   714.000000  714.000000  714.000000  714.000000  714.000000   \n",
       "mean    448.582633    0.406162   29.699118    0.634454    1.260504   \n",
       "std     259.119524    0.491460   14.526497    0.481921    0.521012   \n",
       "min       1.000000    0.000000    0.420000    0.000000    1.000000   \n",
       "25%     222.250000    0.000000   20.125000    0.000000    1.000000   \n",
       "50%     445.000000    0.000000   28.000000    1.000000    1.000000   \n",
       "75%     677.750000    1.000000   38.000000    1.000000    1.000000   \n",
       "max     891.000000    1.000000   80.000000    1.000000    3.000000   \n",
       "\n",
       "           Pclass       SibSp       Parch        Fare  \n",
       "count  714.000000  714.000000  714.000000  714.000000  \n",
       "mean     2.236695    0.512605    0.431373   34.694514  \n",
       "std      0.838250    0.929783    0.853289   52.918930  \n",
       "min      1.000000    0.000000    0.000000    0.000000  \n",
       "25%      1.000000    0.000000    0.000000    8.050000  \n",
       "50%      2.000000    0.000000    0.000000   15.741700  \n",
       "75%      3.000000    1.000000    1.000000   33.375000  \n",
       "max      3.000000    5.000000    6.000000  512.329200  "
      ]
     },
     "execution_count": 20,
     "metadata": {},
     "output_type": "execute_result"
    }
   ],
   "source": [
    "working_age = working[working.Age.notnull()]\n",
    "working_age.describe()"
   ]
  },
  {
   "cell_type": "code",
   "execution_count": 21,
   "metadata": {},
   "outputs": [
    {
     "name": "stdout",
     "output_type": "stream",
     "text": [
      "Mean age for F:  27.9157088123\n",
      "Mean age for M:  30.7266445916\n"
     ]
    }
   ],
   "source": [
    "filter_F_noAge = np.logical_and(working.Age.isnull(), working.Sex==0)\n",
    "filter_M_noAge = np.logical_and(working.Age.isnull(), working.Sex==1)\n",
    "filter_F_Age = np.logical_and(working.Age.notnull(), working.Sex==0)\n",
    "filter_M_Age = np.logical_and(working.Age.notnull(), working.Sex==1)\n",
    "\n",
    "working_noAgeF = working[filter_F_noAge]\n",
    "working_noAgeM = working[filter_M_noAge]\n",
    "working_AgeF = working[filter_F_Age]\n",
    "working_AgeM = working[filter_M_Age]\n",
    "print(\"Mean age for F: \", working_AgeF.Age.mean())\n",
    "print(\"Mean age for M: \", working_AgeM.Age.mean())"
   ]
  },
  {
   "cell_type": "code",
   "execution_count": 22,
   "metadata": {
    "collapsed": true
   },
   "outputs": [],
   "source": [
    "working[filter_F_noAge] = working[filter_F_noAge].fillna({\"Age\": working_AgeF.Age.mean()})"
   ]
  },
  {
   "cell_type": "code",
   "execution_count": 23,
   "metadata": {},
   "outputs": [
    {
     "data": {
      "text/plain": [
       "count    891.000000\n",
       "mean      29.736034\n",
       "std       13.014897\n",
       "min        0.420000\n",
       "25%       22.000000\n",
       "50%       30.000000\n",
       "75%       35.000000\n",
       "max       80.000000\n",
       "Name: Age, dtype: float64"
      ]
     },
     "execution_count": 23,
     "metadata": {},
     "output_type": "execute_result"
    }
   ],
   "source": [
    "working[filter_M_noAge] = working[filter_M_noAge].fillna({\"Age\": working_AgeM.Age.mean()})\n",
    "working.Age.describe()"
   ]
  },
  {
   "cell_type": "markdown",
   "metadata": {},
   "source": [
    "# now try random forest again, including age this time"
   ]
  },
  {
   "cell_type": "code",
   "execution_count": 24,
   "metadata": {},
   "outputs": [
    {
     "name": "stdout",
     "output_type": "stream",
     "text": [
      "X_train shape: (534, 7)\n",
      "feature_names_tr: ['Age', 'Sex', 'Embarked', 'Pclass', 'SibSp', 'Parch', 'Fare']\n",
      "X_test shape: (357, 7)\n",
      "feature_names_te: ['Age', 'Sex', 'Embarked', 'Pclass', 'SibSp', 'Parch', 'Fare']\n",
      "Random Forest RMSE, scaled with Age: 0.390338799119\n"
     ]
    }
   ],
   "source": [
    "#exclude Age in col 5 for now - the nulls are throwing error when try to calculate RMSE\n",
    "X_age, y_age = working.iloc[:, 5:], working.iloc[:, 4]\n",
    "\n",
    "sc = StandardScaler()\n",
    "X_scaled2 = X_age.copy()\n",
    "X_scaled2[feature_names_tr] = sc.fit_transform(X_age[feature_names_tr])\n",
    "\n",
    "X2_train, X2_test, y2_train, y2_test = train_test_split(\n",
    "    X_age, y_age, test_size=.4, random_state=1234)\n",
    "\n",
    "#define features\n",
    "feature_names_tr2 = X2_train.columns.tolist()\n",
    "feature_names_te2 = X2_test.columns.tolist()\n",
    "print(\"X_train shape:\", X2_train.shape)\n",
    "print(\"feature_names_tr:\", feature_names_tr2)\n",
    "print(\"X_test shape:\", X2_test.shape)\n",
    "print(\"feature_names_te:\", feature_names_te2)\n",
    "\n",
    "#Random forest of 500 trees\n",
    "rf = RandomForestRegressor(n_estimators=500, bootstrap=True, oob_score=True, random_state=123)\n",
    "rf.fit(X2_train, y2_train)\n",
    "y2_pred_rf = rf.predict(X2_test)\n",
    "\n",
    "print(\"Random Forest RMSE, scaled with Age:\", np.sqrt(mean_squared_error(y2_test, y2_pred_rf)))\n"
   ]
  },
  {
   "cell_type": "markdown",
   "metadata": {},
   "source": [
    "So the model is now a little better. \n",
    "\n",
    "Random Forest RMSE, unscaled & ignoring Age: 0.405318299836\n",
    "Random Forest RMSE, scaled, ignoring Age: 0.405055372369\n",
    "Random Forest RMSE, scaled with Age: 0.390338799119\n",
    "\n",
    "...but what is actually being predicted? \n"
   ]
  },
  {
   "cell_type": "code",
   "execution_count": 25,
   "metadata": {},
   "outputs": [
    {
     "data": {
      "text/plain": [
       "array([ 1.        ,  0.00869149,  0.02133333,  0.998     ,  0.27      ,\n",
       "        0.068     ,  0.88806667,  0.136     ,  0.32683333,  0.582     ,\n",
       "        0.94986017,  0.084     ,  0.224     ,  0.004     ,  0.594     ,\n",
       "        0.24186667,  0.        ,  0.3865599 ,  0.0665    ,  0.3252    ,\n",
       "        0.01      ,  0.26      ,  1.        ,  0.026     ,  0.97      ,\n",
       "        0.008     ,  0.004     ,  1.        ,  0.96795714,  0.032     ,\n",
       "        0.47261592,  0.184     ,  0.51      ,  1.        ,  0.6       ,\n",
       "        0.188     ,  0.134     ,  0.00933333,  0.606     ,  0.76      ,\n",
       "        0.20614502,  0.958     ,  1.        ,  0.002     ,  0.011     ,\n",
       "        0.226     ,  0.        ,  0.002     ,  0.286     ,  0.974     ,\n",
       "        0.996     ,  0.034     ,  0.658     ,  0.002     ,  0.878     ,\n",
       "        0.62723333,  0.092     ,  0.48233333,  0.0035    ,  0.042     ,\n",
       "        0.422     ,  0.91      ,  0.996     ,  1.        ,  0.0045    ,\n",
       "        1.        ,  0.79940786,  0.068     ,  0.        ,  0.17      ,\n",
       "        0.908     ,  0.068     ,  0.        ,  0.        ,  0.016     ,\n",
       "        0.01      ,  0.998     ,  0.90799589,  0.67456667,  0.648     ,\n",
       "        0.992     ,  0.004     ,  0.986     ,  0.11      ,  0.002     ,\n",
       "        0.284     ,  0.016     ,  0.15786667,  1.        ,  0.716     ,\n",
       "        0.07933333,  0.992     ,  0.972     ,  0.032     ,  0.894     ,\n",
       "        0.292     ,  0.33236667,  0.994     ,  0.        ,  0.1372    ,\n",
       "        0.018     ,  0.996     ,  1.        ,  0.4996    ,  0.044     ,\n",
       "        0.244     ,  0.02      ,  0.028     ,  0.81      ,  0.002     ,\n",
       "        0.706     ,  0.67456667,  0.974     ,  0.        ,  0.445     ,\n",
       "        0.        ,  0.988     ,  0.538     ,  0.004     ,  0.338     ,\n",
       "        0.054     ,  0.01      ,  0.298     ,  1.        ,  0.374     ,\n",
       "        0.798     ,  0.016     ,  0.005     ,  0.322     ,  0.002     ,\n",
       "        0.65      ,  0.058     ,  0.67456667,  0.74      ,  0.266     ,\n",
       "        0.296     ,  0.006     ,  0.53      ,  1.        ,  0.17270221,\n",
       "        0.006     ,  0.        ,  0.7984    ,  0.336     ,  0.19291154,\n",
       "        0.046     ,  0.42746667,  0.03      ,  0.00498571,  1.        ,\n",
       "        0.18933333,  0.318     ,  0.        ,  0.004     ,  0.93966667,\n",
       "        0.208     ,  0.316     ,  0.006     ,  0.45      ,  0.17270221,\n",
       "        0.37      ,  0.798     ,  0.17270221,  0.952     ,  1.        ,\n",
       "        0.422     ,  1.        ,  1.        ,  0.278     ,  0.00933333,\n",
       "        0.958     ,  0.28466667,  0.85406667,  0.052     ,  0.4316    ,\n",
       "        0.002     ,  0.072     ,  0.07628571,  0.012     ,  0.284     ,\n",
       "        0.818     ,  0.002     ,  0.27      ,  0.0247    ,  0.992     ,\n",
       "        0.08      ,  0.842     ,  0.2       ,  0.196     ,  0.004     ,\n",
       "        0.068     ,  0.994     ,  0.95468364,  0.546     ,  0.372     ,\n",
       "        0.016     ,  0.886     ,  0.17      ,  0.016     ,  1.        ,\n",
       "        0.054     ,  0.5825    ,  0.122     ,  0.3595    ,  0.043     ,\n",
       "        0.486     ,  0.898     ,  0.138     ,  0.132     ,  0.694     ,\n",
       "        0.75728571,  0.572     ,  1.        ,  0.7984    ,  0.282     ,\n",
       "        1.        ,  0.05207143,  1.        ,  0.302     ,  0.082     ,\n",
       "        1.        ,  1.        ,  0.378     ,  0.066     ,  0.05      ,\n",
       "        0.20614502,  0.        ,  0.064     ,  0.026     ,  0.054     ,\n",
       "        0.002     ,  0.578     ,  0.248     ,  1.        ,  0.17      ,\n",
       "        0.63300476,  0.18      ,  0.05      ,  0.626     ,  1.        ,\n",
       "        0.        ,  0.75006255,  0.172     ,  0.        ,  0.        ,\n",
       "        0.        ,  0.168     ,  1.        ,  0.12696667,  0.068     ,\n",
       "        0.216     ,  1.        ,  0.776     ,  0.04843333,  0.        ,\n",
       "        0.018     ,  0.164     ,  0.004     ,  1.        ,  0.32      ,\n",
       "        0.002     ,  0.29566667,  1.        ,  0.014     ,  0.        ,\n",
       "        1.        ,  0.        ,  0.54      ,  0.91699589,  0.52616667,\n",
       "        0.27606667,  0.028     ,  0.336     ,  0.        ,  0.1796    ,\n",
       "        0.034     ,  0.54514286,  1.        ,  0.004     ,  0.0485    ,\n",
       "        1.        ,  0.03      ,  1.        ,  0.064     ,  0.012     ,\n",
       "        0.05788889,  0.0247    ,  1.        ,  0.962     ,  0.39      ,\n",
       "        0.        ,  0.        ,  0.1       ,  0.53      ,  1.        ,\n",
       "        1.        ,  0.10013333,  0.186     ,  0.09      ,  0.652     ,\n",
       "        0.002     ,  1.        ,  0.988     ,  1.        ,  0.132     ,\n",
       "        0.4621    ,  0.992     ,  0.672     ,  1.        ,  0.03299341,\n",
       "        0.092     ,  0.018     ,  0.018     ,  1.        ,  0.201     ,\n",
       "        0.043     ,  0.04014286,  0.00498571,  0.27      ,  0.116     ,\n",
       "        0.004     ,  0.514     ,  0.028     ,  0.21989048,  1.        ,\n",
       "        0.476     ,  0.22423333,  0.2       ,  0.91699589,  0.068     ,\n",
       "        0.        ,  0.70196462,  0.11      ,  0.436     ,  0.152     ,\n",
       "        0.286     ,  0.445     ,  0.10013333,  0.298     ,  1.        ,\n",
       "        0.238     ,  0.0123    ,  0.11184762,  0.648     ,  0.114     ,\n",
       "        0.        ,  0.998     ,  0.17270221,  1.        ,  1.        ,\n",
       "        0.018     ,  0.088     ,  0.69      ,  0.604     ,  0.4235    ,\n",
       "        0.004     ,  0.005     ])"
      ]
     },
     "execution_count": 25,
     "metadata": {},
     "output_type": "execute_result"
    }
   ],
   "source": [
    "y2_pred_rf"
   ]
  },
  {
   "cell_type": "markdown",
   "metadata": {},
   "source": [
    "...so the model isn't really predicting 0 or 1.  If force predictions to 0 or 1..."
   ]
  },
  {
   "cell_type": "code",
   "execution_count": 26,
   "metadata": {},
   "outputs": [
    {
     "data": {
      "text/plain": [
       "[1,\n",
       " 0,\n",
       " 0,\n",
       " 1,\n",
       " 0,\n",
       " 0,\n",
       " 1,\n",
       " 0,\n",
       " 0,\n",
       " 1,\n",
       " 1,\n",
       " 0,\n",
       " 0,\n",
       " 0,\n",
       " 1,\n",
       " 0,\n",
       " 0,\n",
       " 0,\n",
       " 0,\n",
       " 0,\n",
       " 0,\n",
       " 0,\n",
       " 1,\n",
       " 0,\n",
       " 1,\n",
       " 0,\n",
       " 0,\n",
       " 1,\n",
       " 1,\n",
       " 0,\n",
       " 0,\n",
       " 0,\n",
       " 1,\n",
       " 1,\n",
       " 1,\n",
       " 0,\n",
       " 0,\n",
       " 0,\n",
       " 1,\n",
       " 1,\n",
       " 0,\n",
       " 1,\n",
       " 1,\n",
       " 0,\n",
       " 0,\n",
       " 0,\n",
       " 0,\n",
       " 0,\n",
       " 0,\n",
       " 1,\n",
       " 1,\n",
       " 0,\n",
       " 1,\n",
       " 0,\n",
       " 1,\n",
       " 1,\n",
       " 0,\n",
       " 0,\n",
       " 0,\n",
       " 0,\n",
       " 0,\n",
       " 1,\n",
       " 1,\n",
       " 1,\n",
       " 0,\n",
       " 1,\n",
       " 1,\n",
       " 0,\n",
       " 0,\n",
       " 0,\n",
       " 1,\n",
       " 0,\n",
       " 0,\n",
       " 0,\n",
       " 0,\n",
       " 0,\n",
       " 1,\n",
       " 1,\n",
       " 1,\n",
       " 1,\n",
       " 1,\n",
       " 0,\n",
       " 1,\n",
       " 0,\n",
       " 0,\n",
       " 0,\n",
       " 0,\n",
       " 0,\n",
       " 1,\n",
       " 1,\n",
       " 0,\n",
       " 1,\n",
       " 1,\n",
       " 0,\n",
       " 1,\n",
       " 0,\n",
       " 0,\n",
       " 1,\n",
       " 0,\n",
       " 0,\n",
       " 0,\n",
       " 1,\n",
       " 1,\n",
       " 0,\n",
       " 0,\n",
       " 0,\n",
       " 0,\n",
       " 0,\n",
       " 1,\n",
       " 0,\n",
       " 1,\n",
       " 1,\n",
       " 1,\n",
       " 0,\n",
       " 0,\n",
       " 0,\n",
       " 1,\n",
       " 1,\n",
       " 0,\n",
       " 0,\n",
       " 0,\n",
       " 0,\n",
       " 0,\n",
       " 1,\n",
       " 0,\n",
       " 1,\n",
       " 0,\n",
       " 0,\n",
       " 0,\n",
       " 0,\n",
       " 1,\n",
       " 0,\n",
       " 1,\n",
       " 1,\n",
       " 0,\n",
       " 0,\n",
       " 0,\n",
       " 1,\n",
       " 1,\n",
       " 0,\n",
       " 0,\n",
       " 0,\n",
       " 1,\n",
       " 0,\n",
       " 0,\n",
       " 0,\n",
       " 0,\n",
       " 0,\n",
       " 0,\n",
       " 1,\n",
       " 0,\n",
       " 0,\n",
       " 0,\n",
       " 0,\n",
       " 1,\n",
       " 0,\n",
       " 0,\n",
       " 0,\n",
       " 0,\n",
       " 0,\n",
       " 0,\n",
       " 1,\n",
       " 0,\n",
       " 1,\n",
       " 1,\n",
       " 0,\n",
       " 1,\n",
       " 1,\n",
       " 0,\n",
       " 0,\n",
       " 1,\n",
       " 0,\n",
       " 1,\n",
       " 0,\n",
       " 0,\n",
       " 0,\n",
       " 0,\n",
       " 0,\n",
       " 0,\n",
       " 0,\n",
       " 1,\n",
       " 0,\n",
       " 0,\n",
       " 0,\n",
       " 1,\n",
       " 0,\n",
       " 1,\n",
       " 0,\n",
       " 0,\n",
       " 0,\n",
       " 0,\n",
       " 1,\n",
       " 1,\n",
       " 1,\n",
       " 0,\n",
       " 0,\n",
       " 1,\n",
       " 0,\n",
       " 0,\n",
       " 1,\n",
       " 0,\n",
       " 1,\n",
       " 0,\n",
       " 0,\n",
       " 0,\n",
       " 0,\n",
       " 1,\n",
       " 0,\n",
       " 0,\n",
       " 1,\n",
       " 1,\n",
       " 1,\n",
       " 1,\n",
       " 1,\n",
       " 0,\n",
       " 1,\n",
       " 0,\n",
       " 1,\n",
       " 0,\n",
       " 0,\n",
       " 1,\n",
       " 1,\n",
       " 0,\n",
       " 0,\n",
       " 0,\n",
       " 0,\n",
       " 0,\n",
       " 0,\n",
       " 0,\n",
       " 0,\n",
       " 0,\n",
       " 1,\n",
       " 0,\n",
       " 1,\n",
       " 0,\n",
       " 1,\n",
       " 0,\n",
       " 0,\n",
       " 1,\n",
       " 1,\n",
       " 0,\n",
       " 1,\n",
       " 0,\n",
       " 0,\n",
       " 0,\n",
       " 0,\n",
       " 0,\n",
       " 1,\n",
       " 0,\n",
       " 0,\n",
       " 0,\n",
       " 1,\n",
       " 1,\n",
       " 0,\n",
       " 0,\n",
       " 0,\n",
       " 0,\n",
       " 0,\n",
       " 1,\n",
       " 0,\n",
       " 0,\n",
       " 0,\n",
       " 1,\n",
       " 0,\n",
       " 0,\n",
       " 1,\n",
       " 0,\n",
       " 1,\n",
       " 1,\n",
       " 1,\n",
       " 0,\n",
       " 0,\n",
       " 0,\n",
       " 0,\n",
       " 0,\n",
       " 0,\n",
       " 1,\n",
       " 1,\n",
       " 0,\n",
       " 0,\n",
       " 1,\n",
       " 0,\n",
       " 1,\n",
       " 0,\n",
       " 0,\n",
       " 0,\n",
       " 0,\n",
       " 1,\n",
       " 1,\n",
       " 0,\n",
       " 0,\n",
       " 0,\n",
       " 0,\n",
       " 1,\n",
       " 1,\n",
       " 1,\n",
       " 0,\n",
       " 0,\n",
       " 0,\n",
       " 1,\n",
       " 0,\n",
       " 1,\n",
       " 1,\n",
       " 1,\n",
       " 0,\n",
       " 0,\n",
       " 1,\n",
       " 1,\n",
       " 1,\n",
       " 0,\n",
       " 0,\n",
       " 0,\n",
       " 0,\n",
       " 1,\n",
       " 0,\n",
       " 0,\n",
       " 0,\n",
       " 0,\n",
       " 0,\n",
       " 0,\n",
       " 0,\n",
       " 1,\n",
       " 0,\n",
       " 0,\n",
       " 1,\n",
       " 0,\n",
       " 0,\n",
       " 0,\n",
       " 1,\n",
       " 0,\n",
       " 0,\n",
       " 1,\n",
       " 0,\n",
       " 0,\n",
       " 0,\n",
       " 0,\n",
       " 0,\n",
       " 0,\n",
       " 0,\n",
       " 1,\n",
       " 0,\n",
       " 0,\n",
       " 0,\n",
       " 1,\n",
       " 0,\n",
       " 0,\n",
       " 1,\n",
       " 0,\n",
       " 1,\n",
       " 1,\n",
       " 0,\n",
       " 0,\n",
       " 1,\n",
       " 1,\n",
       " 0,\n",
       " 0,\n",
       " 0]"
      ]
     },
     "execution_count": 26,
     "metadata": {},
     "output_type": "execute_result"
    }
   ],
   "source": [
    "y2_pred_rf_bin = [0 if x <0.5 else 1 for x in y2_pred_rf]\n",
    "y2_pred_rf_bin"
   ]
  },
  {
   "cell_type": "code",
   "execution_count": 27,
   "metadata": {},
   "outputs": [
    {
     "name": "stdout",
     "output_type": "stream",
     "text": [
      "Random Forest RMSE, scaled with Age & response binned: 0.445959136941\n"
     ]
    }
   ],
   "source": [
    "print(\"Random Forest RMSE, scaled with Age & response binned:\", np.sqrt(mean_squared_error(y2_test, y2_pred_rf_bin)))\n"
   ]
  },
  {
   "cell_type": "markdown",
   "metadata": {},
   "source": [
    "# Lasso"
   ]
  },
  {
   "cell_type": "code",
   "execution_count": 28,
   "metadata": {},
   "outputs": [
    {
     "name": "stdout",
     "output_type": "stream",
     "text": [
      "(891L, 42L)\n",
      "3-fold mean RMSE for degree-3 case, strongest lasso regularization:  0.382820411028\n"
     ]
    }
   ],
   "source": [
    "#generate the polynomial transformer\n",
    "pf_3 = PolynomialFeatures(degree=3, interaction_only=True)\n",
    "#apply it to the data, but ignore the first constant column\n",
    "pf_3_data = pf_3.fit_transform(X)\n",
    "print(pf_3_data.shape)\n",
    "\n",
    "lasso = Lasso()  # In practice be cognizant of convergence errors\n",
    "\n",
    "mean_squared_errors_poly3_lasso = np.abs(\n",
    "    cross_val_score(lasso, pf_3_data, y, cv=3))\n",
    "\n",
    "rmses_lasso_poly3 = list(map(np.sqrt, mean_squared_errors_poly3_lasso))\n",
    "\n",
    "print(\"3-fold mean RMSE for degree-3 case, strongest lasso regularization: \",\n",
    "      np.mean(rmses_lasso_poly3))"
   ]
  },
  {
   "cell_type": "markdown",
   "metadata": {
    "collapsed": true
   },
   "source": [
    "# Look at PCA\n",
    "Initially said I was interested in which attributes determine who survived.  I have a model, but not which attributes are actually contributing the most.  "
   ]
  },
  {
   "cell_type": "code",
   "execution_count": 29,
   "metadata": {},
   "outputs": [
    {
     "name": "stdout",
     "output_type": "stream",
     "text": [
      "       Age  Sex  Embarked  Pclass  SibSp  Parch     Fare\n",
      "534  30.00    0       1.0       3      0      0   8.6625\n",
      "755   0.67    1       1.0       2      1      1  14.5000\n",
      "762  20.00    1       2.0       3      0      0   7.2292\n",
      "605  36.00    1       1.0       3      1      0  15.5500\n",
      "736  48.00    0       1.0       3      1      3  34.3750\n"
     ]
    },
    {
     "data": {
      "text/html": [
       "<div>\n",
       "<style>\n",
       "    .dataframe thead tr:only-child th {\n",
       "        text-align: right;\n",
       "    }\n",
       "\n",
       "    .dataframe thead th {\n",
       "        text-align: left;\n",
       "    }\n",
       "\n",
       "    .dataframe tbody tr th {\n",
       "        vertical-align: top;\n",
       "    }\n",
       "</style>\n",
       "<table border=\"1\" class=\"dataframe\">\n",
       "  <thead>\n",
       "    <tr style=\"text-align: right;\">\n",
       "      <th></th>\n",
       "      <th>component_1</th>\n",
       "      <th>component_2</th>\n",
       "      <th>component_3</th>\n",
       "      <th>component_4</th>\n",
       "      <th>component_5</th>\n",
       "      <th>component_6</th>\n",
       "      <th>component_7</th>\n",
       "    </tr>\n",
       "  </thead>\n",
       "  <tbody>\n",
       "    <tr>\n",
       "      <th>0</th>\n",
       "      <td>-23.069129</td>\n",
       "      <td>1.440149</td>\n",
       "      <td>-0.336933</td>\n",
       "      <td>0.148705</td>\n",
       "      <td>0.164799</td>\n",
       "      <td>0.443170</td>\n",
       "      <td>-0.840627</td>\n",
       "    </tr>\n",
       "    <tr>\n",
       "      <th>1</th>\n",
       "      <td>-18.286412</td>\n",
       "      <td>-28.081389</td>\n",
       "      <td>-0.111022</td>\n",
       "      <td>-0.226218</td>\n",
       "      <td>-0.998367</td>\n",
       "      <td>-0.276593</td>\n",
       "      <td>0.525780</td>\n",
       "    </tr>\n",
       "    <tr>\n",
       "      <th>2</th>\n",
       "      <td>-24.866500</td>\n",
       "      <td>-8.489508</td>\n",
       "      <td>-0.802451</td>\n",
       "      <td>0.211419</td>\n",
       "      <td>0.632509</td>\n",
       "      <td>-0.147635</td>\n",
       "      <td>0.358235</td>\n",
       "    </tr>\n",
       "    <tr>\n",
       "      <th>3</th>\n",
       "      <td>-15.966877</td>\n",
       "      <td>7.162587</td>\n",
       "      <td>0.593053</td>\n",
       "      <td>-0.425928</td>\n",
       "      <td>0.502970</td>\n",
       "      <td>0.634780</td>\n",
       "      <td>0.109753</td>\n",
       "    </tr>\n",
       "    <tr>\n",
       "      <th>4</th>\n",
       "      <td>3.294417</td>\n",
       "      <td>18.418820</td>\n",
       "      <td>2.341996</td>\n",
       "      <td>2.108375</td>\n",
       "      <td>-0.518210</td>\n",
       "      <td>0.611096</td>\n",
       "      <td>-0.284617</td>\n",
       "    </tr>\n",
       "  </tbody>\n",
       "</table>\n",
       "</div>"
      ],
      "text/plain": [
       "   component_1  component_2  component_3  component_4  component_5  \\\n",
       "0   -23.069129     1.440149    -0.336933     0.148705     0.164799   \n",
       "1   -18.286412   -28.081389    -0.111022    -0.226218    -0.998367   \n",
       "2   -24.866500    -8.489508    -0.802451     0.211419     0.632509   \n",
       "3   -15.966877     7.162587     0.593053    -0.425928     0.502970   \n",
       "4     3.294417    18.418820     2.341996     2.108375    -0.518210   \n",
       "\n",
       "   component_6  component_7  \n",
       "0     0.443170    -0.840627  \n",
       "1    -0.276593     0.525780  \n",
       "2    -0.147635     0.358235  \n",
       "3     0.634780     0.109753  \n",
       "4     0.611096    -0.284617  "
      ]
     },
     "execution_count": 29,
     "metadata": {},
     "output_type": "execute_result"
    }
   ],
   "source": [
    "pca = PCA()\n",
    "transformed_pca_x = pca.fit_transform(X2_train[feature_names_tr2])\n",
    "#create component indices\n",
    "component_names = [\"component_\"+str(comp) for comp in range(1, len(pca.explained_variance_)+1)]\n",
    "\n",
    "#generate new component dataframe\n",
    "transformed_pca_x = pd.DataFrame(transformed_pca_x,columns=component_names)\n",
    "print(X2_train[feature_names_tr2].head())\n",
    "transformed_pca_x.head()"
   ]
  },
  {
   "cell_type": "code",
   "execution_count": 30,
   "metadata": {
    "collapsed": true
   },
   "outputs": [],
   "source": [
    "#generate component loadings on original features\n",
    "component_matrix = pd.DataFrame(pca.components_,index=component_names,columns = feature_names_tr2)\n"
   ]
  },
  {
   "cell_type": "code",
   "execution_count": null,
   "metadata": {
    "collapsed": true
   },
   "outputs": [],
   "source": []
  }
 ],
 "metadata": {
  "kernelspec": {
   "display_name": "Python 2",
   "language": "python",
   "name": "python2"
  },
  "language_info": {
   "codemirror_mode": {
    "name": "ipython",
    "version": 2
   },
   "file_extension": ".py",
   "mimetype": "text/x-python",
   "name": "python",
   "nbconvert_exporter": "python",
   "pygments_lexer": "ipython2",
   "version": "2.7.14"
  }
 },
 "nbformat": 4,
 "nbformat_minor": 2
}
